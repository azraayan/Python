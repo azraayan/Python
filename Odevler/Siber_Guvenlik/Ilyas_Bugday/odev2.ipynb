{
  "nbformat": 4,
  "nbformat_minor": 0,
  "metadata": {
    "colab": {
      "provenance": []
    },
    "kernelspec": {
      "name": "python3",
      "display_name": "Python 3"
    },
    "language_info": {
      "name": "python"
    }
  },
  "cells": [
    {
      "cell_type": "code",
      "execution_count": null,
      "metadata": {
        "colab": {
          "base_uri": "https://localhost:8080/"
        },
        "id": "njPTonW0vKmo",
        "outputId": "ab539f49-acc0-4ef1-a2aa-ce8059aa8065"
      },
      "outputs": [
        {
          "output_type": "stream",
          "name": "stdout",
          "text": [
            "Bir sayı giriniz:3\n",
            "Sayınız 5 e ve 7 ye bölünmüyor\n"
          ]
        }
      ],
      "source": [
        "sayi=int(input('Bir sayı giriniz:'))\n",
        "\n",
        "if sayi%5==0 and sayi%7==0:\n",
        "  print('Sayınız 5 e ve 7 ye bölünüyor')\n",
        "elif sayi%5==0 and sayi%7!=0:\n",
        "  print('Sayınız 5 e bölünüyor')\n",
        "elif sayi%5!=0 and sayi%7==0:\n",
        "  print('Sayınız 7 ye bölünüyor')\n",
        "elif sayi%5!=0 and sayi%7!=0:\n",
        "  print('Sayınız 5 e ve 7 ye bölünmüyor')"
      ]
    },
    {
      "cell_type": "code",
      "source": [],
      "metadata": {
        "id": "guH_9oofm4qk"
      },
      "execution_count": null,
      "outputs": []
    },
    {
      "cell_type": "code",
      "source": [
        "yazi= input(\"Kontrol etmek istediğiniz bir kelime giriniz: \")\n",
        "\n",
        "if(yazi[0]==yazi[-1]):\n",
        "    print(\" Kelimenin ilk ve son harfi aynıdır.\")\n",
        "else:\n",
        "    print(\"Kelimenin ilk ve son harfi aynı değildir.\")\n"
      ],
      "metadata": {
        "colab": {
          "base_uri": "https://localhost:8080/"
        },
        "id": "ynksOw-4xVkw",
        "outputId": "b298bac0-cab2-4b41-fe2e-be8e581b8042"
      },
      "execution_count": 5,
      "outputs": [
        {
          "output_type": "stream",
          "name": "stdout",
          "text": [
            "Kontrol etmek istediğiniz bir kelime giriniz: bob\n",
            " Kelimenin ilk ve son harfi aynıdır.\n"
          ]
        }
      ]
    },
    {
      "cell_type": "code",
      "source": [
        "boy = float(input(\"Boyunuzu metre cinsinden giriniz Giriniz: \"))\n",
        "kilo = int(input(\"Kilonuzu Giriniz: \"))\n",
        "\n",
        "vki=kilo/(boy*boy)\n",
        "\n",
        "if(vki>=30):\n",
        "    print(f\"Vucut Kitle Endeksiniz: {vki} - Obezsiniz!...\")\n",
        "\n",
        "\n",
        "elif(25<=vki<30):\n",
        "    print(f\"Vucut Kitle Endeksiniz: {vki} - Asiri Kilolusunuz!...\")\n",
        "\n",
        "\n",
        "elif(20<=vki<25):\n",
        "    print(f\"Vucut Kitle Endeksiniz: {vki} - Normal Kilodasiniz!...\")\n",
        "\n",
        "\n",
        "\n",
        "elif(vki<20):\n",
        "    print(f\"Vucut Kitle Endeksiniz: {vki} - Zayifsiniz!...\")"
      ],
      "metadata": {
        "colab": {
          "base_uri": "https://localhost:8080/"
        },
        "id": "38SeJ-KyognO",
        "outputId": "f0e17b07-e732-4089-974f-7fdd85290003"
      },
      "execution_count": 6,
      "outputs": [
        {
          "output_type": "stream",
          "name": "stdout",
          "text": [
            "Boyunuzu metre cinsinden giriniz Giriniz: 1.83\n",
            "Kilonuzu Giriniz: 53\n",
            "Vucut Kitle Endeksiniz: 15.826092149661081 - Zayifsiniz!...\n"
          ]
        }
      ]
    }
  ]
}
