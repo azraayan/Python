# print("->   Kullanıcıdan bir sayı girin ve sayı 5'e veya 7'ye bölünürse çıkan sayosonon 5'e ya da 7'ye bölündüğünü yazarak elde edin")
# sayi = int(input("Bir sayi giriniz: "))
# if sayi % 5 == 0 or sayi % 7 == 0:
#     print("Sayi 5'e ya da 7'ye bölünür")
# else:
#     print("sayi ikisine de bölünmez")

# ---------------------------------------------------------

# print("->   1-9 arasonda bir sayı başlatan ve kullanıcı numarayı tahmşb etmesini isteyen bir python programı yazın.")
# print("Kullanıcı yanlış tahmin ederse 'Yanlış Tahmin' mesajını yazın doğru tahmin ise 'iyi tahmin yazın.'")

# tahmin_sayi = 7

# sayi = int(input("Lütfen 1-9 arasında bir sayı giriniz: "))

# if 0 < sayi < 10:
#     if sayi == tahmin_sayi:
#         print(f'Doğru Bildinz! \nSayi = {tahmin_sayi}')
#     else:
#         print("Yanlış bildiniz.Tekrar deneyiniz..")

# ---------------------------------------------------------

# print("Bir kelime girin ve kelimenin başında ve sonunda aynı harfe sahip olup olmadığını uygun bir mesajla oluşturun")

# kelime = input("Lütfen bir kelime giriniz: ")
# uzunluk = len(kelime)

# if kelime[0] == kelime[-1]:
#     print("Kelimelerin ilk ve son harfi aynı...")
# else:
#     print("Aynı değil..")

# ---------------------------------------------------------

# print(
#     "Girdi olarak boy ve kilogram girerek beden kitle indeki hesaplaması yapınız. Aşağıdaki değer aralıklarına göre sınıflama yapınız."
# )
# print(
#     "bmi >= 30 = obez \n25 <= bmi < 30 = aşırı kilolu \n20 <= bmi < 25 = normal \nbmi < 20 = zayıf"
# )

# boy = float(input("Boyunuzu girin: "))
# kilogram = float(input("Kilonuzu giriniz: "))

# bmi = kilogram // boy * boy

# print(f"Boy: {boy}\nKilo: {kilogram}")


# if bmi < 20:
#     print("Zayıf")
# elif 20 <= bmi < 25:
#     print("Normal")
# elif 25 <= bmi < 30:
#     print("Aşırı kilolu")
# else:
#     print("Obez")
