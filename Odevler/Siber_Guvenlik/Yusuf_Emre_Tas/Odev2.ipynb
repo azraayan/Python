{
  "nbformat": 4,
  "nbformat_minor": 0,
  "metadata": {
    "colab": {
      "provenance": []
    },
    "kernelspec": {
      "name": "python3",
      "display_name": "Python 3"
    },
    "language_info": {
      "name": "python"
    }
  },
  "cells": [
    {
      "cell_type": "code",
      "execution_count": 1,
      "metadata": {
        "id": "DRBtll9no0YN",
        "colab": {
          "base_uri": "https://localhost:8080/"
        },
        "outputId": "0788590e-0d49-460c-bd92-37dcbe230c16"
      },
      "outputs": [
        {
          "output_type": "stream",
          "name": "stdout",
          "text": [
            "Bir sayı girin: 45\n",
            "45, 5'e veya 7'ye bölünebilir.\n"
          ]
        }
      ],
      "source": [
        "sayi = int(input(\"Bir sayı girin: \"))\n",
        "\n",
        "#Sayının 5 veya 7'ye bölünüp bölünmediğini kontrol etmek için mod işlemi yapar\n",
        "if sayi % 5 == 0 or sayi % 7 == 0:\n",
        "    #Eğer sayı 5 veya 7'ye bölünüyorsa kullanıcıya bildirir\n",
        "    print(f\"{sayi}, 5'e veya 7'ye bölünebilir.\")\n",
        "else:\n",
        "    #Eğer sayı 5 veya 7'ye bölünmüyorsa kullanıcıya bildirir\n",
        "    print(f\"{sayi}, ne 5'e ne de 7'ye bölünebilir.\")\n"
      ]
    },
    {
      "cell_type": "code",
      "source": [
        "hedef_sayi = 6\n",
        "\n",
        "#Kullanıcıdan tahmin girişi alır\n",
        "tahmin = int(input(\"1 ile 9 arasında bir sayı tahmin edin: \"))\n",
        "\n",
        "#Tahminin doğruluğunu kontrol eder\n",
        "if tahmin == hedef_sayi:\n",
        "    print(\"İyi tahmin!\")\n",
        "else:\n",
        "    print(\"Yanlış tahmin!\")\n"
      ],
      "metadata": {
        "colab": {
          "base_uri": "https://localhost:8080/"
        },
        "id": "P4eYIzBWnjks",
        "outputId": "c46af338-56e5-4e26-dc35-ba6d38d246fe"
      },
      "execution_count": 2,
      "outputs": [
        {
          "output_type": "stream",
          "name": "stdout",
          "text": [
            "1 ile 9 arasında bir sayı tahmin edin: 6\n",
            "İyi tahmin!\n"
          ]
        }
      ]
    },
    {
      "cell_type": "code",
      "source": [
        "kelime = input(\"Bir kelime girin: \")\n",
        "\n",
        "#Kelimenin başındaki ve sonundaki harfleri alır\n",
        "ilk_harf = kelime[0]\n",
        "son_harf = kelime[-1]\n",
        "\n",
        "#Başlangıç ve son harfi karşılaştırır ve sonuca göre mesaj yazdırır\n",
        "if ilk_harf == son_harf:\n",
        "    print(f\"{kelime}, kelimesinin başında ve sonunda aynı harf vardır.\")\n",
        "else:\n",
        "    print(f\"{kelime}, kelimesinin başında ve sonunda farklı harf vardır.\")\n"
      ],
      "metadata": {
        "colab": {
          "base_uri": "https://localhost:8080/"
        },
        "id": "HSO4Ictvn3c_",
        "outputId": "bf9dd5a4-c943-4d9b-a235-ce492599d57e"
      },
      "execution_count": 3,
      "outputs": [
        {
          "output_type": "stream",
          "name": "stdout",
          "text": [
            "Bir kelime girin: araba\n",
            "araba, kelimesinin başında ve sonunda aynı harf vardır.\n"
          ]
        }
      ]
    },
    {
      "cell_type": "code",
      "source": [
        "boy = float(input(\"Boyunuzu (metre cinsinden) girin: \"))\n",
        "kilogram = float(input(\"Kilonuzu girin: \"))\n",
        "\n",
        "#VKİ hesaplama formülü: VKİ = kilogram / (boy^2)\n",
        "bmi = kilogram / (boy ** 2)\n",
        "\n",
        "#VKİ değerine göre sınıflandırma yapar\n",
        "if bmi >= 30:\n",
        "    sınıf = \"Obez\"\n",
        "elif 25 <= bmi < 30:\n",
        "    sınıf = \"Aşırı Kilolu\"\n",
        "elif 20 <= bmi < 25:\n",
        "    sınıf = \"Normal\"\n",
        "else:\n",
        "    sınıf = \"Zayıf\"\n",
        "\n",
        "# Sonucu ekrana yazdırır\n",
        "print(f\"BMI Değeriniz: {bmi:.2f}\")\n",
        "print(f\"Sınıf: {sınıf}\")"
      ],
      "metadata": {
        "colab": {
          "base_uri": "https://localhost:8080/"
        },
        "id": "v9ozL84Aoaf7",
        "outputId": "beaaba5b-9721-4024-8244-82bfb686107e"
      },
      "execution_count": 5,
      "outputs": [
        {
          "output_type": "stream",
          "name": "stdout",
          "text": [
            "Boyunuzu (metre cinsinden) girin: 1.73\n",
            "Kilonuzu girin: 105\n",
            "BMI Değeriniz: 35.08\n",
            "Sınıf: Obez\n"
          ]
        }
      ]
    }
  ]
}
