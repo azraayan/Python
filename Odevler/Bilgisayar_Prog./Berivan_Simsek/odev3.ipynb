sayi=int(input('sayı giriniz:'))
if sayi%7==0:
  print("sayınız 7 ye tam bölünür: ",int(sayi/7))
elif sayi%5==0:
  print("sayınız 5 e tam bölünür: ",int(sayi/5))
else:
  print("sayınız 7 ye ya da 5 e tam bölünmez.")


import random
num=random.randint(1,9)
tahmin=int(input('sayı giriniz:'))
print("random sayı:",num)
if tahmin==num:
  print("Doğru tahmin!")
else:
  print("Yanlış tahmin!")



kelime=input("Bir kelime girin:")
if len(kelime) < 2:
    print("Kelime en az iki harf içermelidir.")
elif kelime[0] == kelime[-1]:
    print("Kelimenin başındaki ve sonundaki harf aynıdır.")
else:
    print("Kelimenin başındaki ve sonundaki harf aynı değildir.")



kilo=int(input('Kilonuzu giriniz:'))
boy=float(input('Boyunuzu nokta girerek giriniz:'))
bmi=kilo/(boy*boy)
print("Beden kitle indeksiniz:",bmi)
if bmi >= 30:
  print("Obezsiniz")
elif 25 <= bmi < 30:
  print("Aşırı kilolusunuz")
elif 20 <= bmi < 25:
  print("Normal kilolusunuz")
else:
  print("Zayıfsınız")
