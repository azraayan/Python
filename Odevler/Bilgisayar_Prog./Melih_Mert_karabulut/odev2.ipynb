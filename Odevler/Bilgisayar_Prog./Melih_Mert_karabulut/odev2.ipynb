{
  "nbformat": 4,
  "nbformat_minor": 0,
  "metadata": {
    "colab": {
      "provenance": []
    },
    "kernelspec": {
      "name": "python3",
      "display_name": "Python 3"
    },
    "language_info": {
      "name": "python"
    }
  },
  "cells": [
    {
      "cell_type": "markdown",
      "source": [
        "**CEVAP 1**"
      ],
      "metadata": {
        "id": "SzodziWaDEsJ"
      }
    },
    {
      "cell_type": "code",
      "source": [
        "sayi=int(input(\"Sayı giriniz: \"))\n",
        "\n",
        "if sayi%5==0 and sayi%7==0:\n",
        "    print(f\"{sayi} hem 5'e hem de 7'ye tam bölünüyor.\")\n",
        "elif sayi%5==0:\n",
        "    print(f\"{sayi} 5'e tam bölünebilir\")\n",
        "elif sayi%7==0:\n",
        "    print(f\"{sayi} 7'e tam bölünebilir\")\n",
        "else:\n",
        "    print(f\"{sayi} 5'e veya 7'ye tam bölünemez.\")"
      ],
      "metadata": {
        "id": "bC7omj4uDPy8"
      },
      "execution_count": null,
      "outputs": []
    },
    {
      "cell_type": "markdown",
      "source": [
        "**CEVAP 2**"
      ],
      "metadata": {
        "id": "sBD6ubEXDSNf"
      }
    },
    {
      "cell_type": "code",
      "source": [
        "import random\n",
        "randomSayi= random.randint(1,9)\n",
        "\n",
        "while True:\n",
        "    try:\n",
        "        tahminEdilenSayi=int(input(\"1 ile 9 arasında sayı tahmin edin: \"))\n",
        "\n",
        "        if tahminEdilenSayi < 1 or tahminEdilenSayi > 9:\n",
        "            print(\"1 ile 9 arasında sayı girin dedim başka bir değer girme.\")\n",
        "        elif tahminEdilenSayi==randomSayi:\n",
        "            print(\"Doğru bildiniz.\")\n",
        "            break\n",
        "        else:\n",
        "            print(\"Yanlış tahmin. Tekrar Dene.\")\n",
        "\n",
        "    except ValueError:\n",
        "        print(\"Yanlış değer girdiniz. Tamsayı giriniz.\")"
      ],
      "metadata": {
        "id": "l8L3MAhfDWHZ"
      },
      "execution_count": null,
      "outputs": []
    },
    {
      "cell_type": "markdown",
      "source": [
        "**CEVAP 3**"
      ],
      "metadata": {
        "id": "dRrKjBQ8DYWu"
      }
    },
    {
      "cell_type": "code",
      "source": [
        "kelime=input(\"Bir kelime giriniz: \")\n",
        "ilkHarf=kelime[0]\n",
        "sonHarf=kelime[-1]\n",
        "\n",
        "if ilkHarf == sonHarf:\n",
        "    print(f\"{kelime} kelimesinin ilk ve son harfı aynıdır.\")\n",
        "else:\n",
        "    print(f\"{kelime} kelimesinin ilk ve son harfı farklıdır.\")"
      ],
      "metadata": {
        "id": "4s-XKvIzDbIx"
      },
      "execution_count": null,
      "outputs": []
    },
    {
      "cell_type": "markdown",
      "source": [
        "**CEVAP 4**"
      ],
      "metadata": {
        "id": "rg8Mks2IDcqJ"
      }
    },
    {
      "cell_type": "code",
      "source": [
        "boy = float(input(\"Metre cinsinden boyunuzu girin: \"))\n",
        "kilogram = float(input(\"Kilogram cinsinden kilonuzu girin: \"))\n",
        "bmi = kilogram / (boy **2 )\n",
        "\n",
        "\n",
        "if bmi <20:\n",
        "    durumu = \"Zayıf\"\n",
        "elif 20 <= bmi < 25:\n",
        "    durumu = \"Normal\"\n",
        "elif 25 <= bmi < 30:\n",
        "    durumu = \"Fazla Kilolu\"\n",
        "else:\n",
        "    durumu = \"Obez\"\n",
        "\n",
        "\n",
        "print(f\"Vücut Kitle İndeksiniz (BMI): {bmi:.2f} \\n Durumunuz: {durumu}\")\n"
      ],
      "metadata": {
        "id": "eTLXkUZaDeAM"
      },
      "execution_count": null,
      "outputs": []
    }
  ]
}
