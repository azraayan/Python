{
  "nbformat": 4,
  "nbformat_minor": 0,
  "metadata": {
    "colab": {
      "provenance": []
    },
    "kernelspec": {
      "name": "python3",
      "display_name": "Python 3"
    },
    "language_info": {
      "name": "python"
    }
  },
  "cells": [
    {
      "cell_type": "code",
      "execution_count": 29,
      "metadata": {
        "colab": {
          "base_uri": "https://localhost:8080/"
        },
        "id": "-XO6tY0PZwCL",
        "outputId": "508ce2f1-cdf6-44f1-e0ce-36fb34669f83"
      },
      "outputs": [
        {
          "output_type": "stream",
          "name": "stdout",
          "text": [
            "Bir sayı giriniz : 35\n",
            "Sayı 7 ve 5 ile tam bölünmektedir.\n"
          ]
        }
      ],
      "source": [
        "sayi = int(input(\"Bir sayı giriniz : \"))\n",
        "if(sayi % 7 == 0 and sayi % 5 == 0):\n",
        "  print(f\"Sayı 7 ve 5 ile tam bölünmektedir.\")\n",
        "elif(sayi % 5 == 0):\n",
        "  print(f\"Sayı 5 ile tam bölünmektedir.\")\n",
        "elif(sayi % 7 == 0):\n",
        "  print(f\"Sayı 7 ile tam bölünmektedir.\")\n",
        "else:\n",
        "  print(f\"Girilen değer tam bölünememektedir.\")\n"
      ]
    },
    {
      "cell_type": "code",
      "source": [
        "import random\n",
        "\n",
        "while(1):\n",
        "  i = random.randint(1,9)\n",
        "  sayi = int(input(\"Rastgele olan sayıyı tahmin edin : \"))\n",
        "  if (sayi == i):\n",
        "    print(f\"İyi tahmin.\")\n",
        "  elif(sayi != i):\n",
        "    print(f\"Yanlış tahmin.\")"
      ],
      "metadata": {
        "id": "8_brlpplcgt6"
      },
      "execution_count": null,
      "outputs": []
    },
    {
      "cell_type": "code",
      "source": [
        "kelime = input(\"Bir kelime giriniz : \")\n",
        "\n",
        "if(kelime[0] == kelime[-1]):\n",
        "  print(\"Kelimenin ilk harfi ve son harfi aynıdır.\")\n",
        "elif(kelime[0] != kelime[-1]):\n",
        "  print(\"Kelimenin ilk harfi ve son harfi farklıdır.\")\n",
        "else:\n",
        "  print(\"Lütfen kelime girin.\")"
      ],
      "metadata": {
        "colab": {
          "base_uri": "https://localhost:8080/"
        },
        "id": "jJAAI1J2dtNt",
        "outputId": "2633971b-a535-4f7d-8ca4-f7434b447a4e"
      },
      "execution_count": 26,
      "outputs": [
        {
          "output_type": "stream",
          "name": "stdout",
          "text": [
            "Bir kelime giriniz : Ankara\n",
            "Kelimenin ilk harfi ve son harfi farklıdır.\n"
          ]
        }
      ]
    },
    {
      "cell_type": "code",
      "source": [
        "kilo = float(input(\"Lütfen kilonuzu giriniz(kg) : \"))\n",
        "boy = int(input(\"Lütfen boyunuzu giriniz(cm) : \"))\n",
        "\n",
        "boy = boy / 100\n",
        "Endeks = kilo / (boy ** 2)\n",
        "\n",
        "if(Endeks >= 30):\n",
        "  print(\"Obezsiniz.\")\n",
        "elif(25<= Endeks <30):\n",
        "  print(\"Aşırı Kilolu\")\n",
        "elif(20<= Endeks < 25):\n",
        "  print(\"Normal\")\n",
        "else:\n",
        "  print(\"Zayıf\")"
      ],
      "metadata": {
        "colab": {
          "base_uri": "https://localhost:8080/"
        },
        "id": "1NE-cB7BfiUl",
        "outputId": "49cb7e14-93f2-4386-958a-a74a8bd5d706"
      },
      "execution_count": 24,
      "outputs": [
        {
          "output_type": "stream",
          "name": "stdout",
          "text": [
            "Lütfen kilonuzu giriniz(kg) : 75\n",
            "Lütfen boyunuzu giriniz(cm) : 185\n",
            "Normal\n"
          ]
        }
      ]
    }
  ]
}
