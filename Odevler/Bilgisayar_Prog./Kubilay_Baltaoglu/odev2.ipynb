{
 "cells": [
  {
   "cell_type": "code",
   "execution_count": 3,
   "id": "initial_id",
   "metadata": {
    "collapsed": true,
    "ExecuteTime": {
     "end_time": "2023-10-24T07:06:11.373938600Z",
     "start_time": "2023-10-24T07:06:08.378764900Z"
    }
   },
   "outputs": [
    {
     "name": "stdout",
     "output_type": "stream",
     "text": [
      "Harf Notunuz: CC\n",
      "Ortalamanız: 52.5\n"
     ]
    }
   ],
   "source": [
    "vize = int(input(\"Vize notunuzu giriniz: \"))\n",
    "final = int(input(\"Final notunuzu giriniz: \"))\n",
    "odev = int(input(\"Ödev notunuzu giriniz: \"))\n",
    "ortalama = (vize * 25 / 100) + (final * 50 /100) + (odev * 25 / 100)\n",
    "\n",
    "if 0 <= ortalama <=30:\n",
    "    print(\"Harf Notunuz: F\")\n",
    "\n",
    "if 31 <= ortalama <=35:\n",
    "    print(\"Harf Notunuz: DF\")\n",
    "\n",
    "if 36 <= ortalama <=40:\n",
    "    print(\"Harf Notunuz: DD\")\n",
    "\n",
    "if 41 <= ortalama <=50:\n",
    "    print(\"Harf Notunuz: CD\")\n",
    "\n",
    "elif 51 <= ortalama <=60:\n",
    "    print(\"Harf Notunuz: CC\")\n",
    "\n",
    "elif 61 <= ortalama <= 70:\n",
    "    print(\"Harf Notunuz: CB\")\n",
    "\n",
    "elif 71 <= ortalama <=80:\n",
    "    print(\"Harf Notunuz: BB\")\n",
    "\n",
    "elif 81 <= ortalama <=90:\n",
    "    print(\"Harf Notunuz: BA\")\n",
    "\n",
    "elif 91 <= ortalama <=100:\n",
    "    print(\"Harf Notunuz: AA\")\n",
    "\n",
    "else:\n",
    "    print(\"Not girişini hatalı yaptınız! Ortalamanız 0 ile 100 arasında bir değer olması gerekmekte.\")\n",
    "\n",
    "print(f\"Ortalamanız: {ortalama}\")"
   ]
  },
  {
   "cell_type": "code",
   "execution_count": 4,
   "outputs": [
    {
     "name": "stdout",
     "output_type": "stream",
     "text": [
      "Sayı 5 veya 7'ye bölünmüyor.\n"
     ]
    }
   ],
   "source": [
    "sayi = float(input(\"Bir sayı giriniz: \"))\n",
    "\n",
    "if sayi % 5 == 0 and sayi % 7 == 0:\n",
    "  print(\"Sayı hem 5 hemde 7'ye bölünüyor.\")\n",
    "elif sayi % 7 == 0:\n",
    "  print(\"Sayı 7'ye bölünüyor.\")\n",
    "elif sayi % 5 == 0:\n",
    "  print(\"Sayı 5'e bölünüyor.\")\n",
    "else:\n",
    "  print(\"Sayı 5 veya 7'ye bölünmüyor.\")"
   ],
   "metadata": {
    "collapsed": false,
    "ExecuteTime": {
     "end_time": "2023-10-24T07:06:24.695337200Z",
     "start_time": "2023-10-24T07:06:22.209342700Z"
    }
   },
   "id": "ea7ae23cb4e9a104"
  },
  {
   "cell_type": "code",
   "execution_count": 5,
   "outputs": [
    {
     "name": "stdout",
     "output_type": "stream",
     "text": [
      "İyi tahmin!\n",
      "\n",
      "Tuttuğum sayı: 8\n",
      "Senin tahminin: 8\n"
     ]
    }
   ],
   "source": [
    "import random\n",
    "\n",
    "tahmin = int(input(\"Tuttuğum sayıyı, tahmin etmeye çalış!\\n\"))\n",
    "sayi = random.randint(1,10)\n",
    "\n",
    "if tahmin == sayi:\n",
    "  print(\"İyi tahmin!\\n\")\n",
    "\n",
    "else:\n",
    "  print(\"Kötü tahmin!\\n\")\n",
    "\n",
    "print(f\"Tuttuğum sayı: {sayi}\\nSenin tahminin: {tahmin}\")"
   ],
   "metadata": {
    "collapsed": false,
    "ExecuteTime": {
     "end_time": "2023-10-24T07:06:56.936349600Z",
     "start_time": "2023-10-24T07:06:54.489591Z"
    }
   },
   "id": "92dce470e19f4383"
  },
  {
   "cell_type": "code",
   "execution_count": 6,
   "outputs": [
    {
     "name": "stdout",
     "output_type": "stream",
     "text": [
      "Girilen kelimenin ilk ve son harfi farklı!\n"
     ]
    }
   ],
   "source": [
    "kelime = input(\"Bir kelime girin: \")\n",
    "if kelime[0] == kelime[-1]:\n",
    "  print(f\"Girilen kelimenin ilk ve son harfi aynı!\")\n",
    "else:\n",
    "  print(f\"Girilen kelimenin ilk ve son harfi farklı!\")"
   ],
   "metadata": {
    "collapsed": false,
    "ExecuteTime": {
     "end_time": "2023-10-24T07:07:31.553168100Z",
     "start_time": "2023-10-24T07:07:26.149094600Z"
    }
   },
   "id": "8ca58d9ad2f5c217"
  },
  {
   "cell_type": "code",
   "execution_count": 10,
   "outputs": [
    {
     "name": "stdout",
     "output_type": "stream",
     "text": [
      "Vücut kitle indeksiniz: 20.0\n",
      "Sonuç: Normal\n"
     ]
    }
   ],
   "source": [
    "boy = float(input(\"Boyunuzu giriniz: \"))\n",
    "kilo = float(input(\"Kilonuzu giriniz: \"))\n",
    "vki = (kilo) / (boy**2)\n",
    "\n",
    "if vki >= 30:\n",
    "  print(f\"Vücut kitle indeksiniz: {vki:.1f}\\nSonuç: Obez\")\n",
    "elif 25 <= vki < 30:\n",
    "  print(f\"Vücut kitle indeksiniz: {vki:.1f}\\nSonuç: Aşırı Kilolu\")\n",
    "elif 20<= vki < 25:\n",
    "  print(f\"Vücut kitle indeksiniz: {vki:.1f}\\nSonuç: Normal\")\n",
    "elif vki < 20:\n",
    "  print(f\"Vücut kitle indeksiniz: {vki:.1f}\\nSonuç: Zayıf\")\n",
    "else:\n",
    "  print(f\"Girdiğiniz değerlerde hata bulunmaktadır!\")"
   ],
   "metadata": {
    "collapsed": false,
    "ExecuteTime": {
     "end_time": "2023-10-24T07:08:57.465260400Z",
     "start_time": "2023-10-24T07:08:51.853110900Z"
    }
   },
   "id": "b4cfcc7cd92b4b68"
  },
  {
   "cell_type": "code",
   "execution_count": 7,
   "outputs": [],
   "source": [],
   "metadata": {
    "collapsed": false,
    "ExecuteTime": {
     "end_time": "2023-10-24T07:08:26.359436900Z",
     "start_time": "2023-10-24T07:08:26.337921800Z"
    }
   },
   "id": "f7f866dfecb75432"
  },
  {
   "cell_type": "code",
   "execution_count": null,
   "outputs": [],
   "source": [],
   "metadata": {
    "collapsed": false
   },
   "id": "c343a7e56d51ff10"
  }
 ],
 "metadata": {
  "kernelspec": {
   "display_name": "Python 3",
   "language": "python",
   "name": "python3"
  },
  "language_info": {
   "codemirror_mode": {
    "name": "ipython",
    "version": 2
   },
   "file_extension": ".py",
   "mimetype": "text/x-python",
   "name": "python",
   "nbconvert_exporter": "python",
   "pygments_lexer": "ipython2",
   "version": "2.7.6"
  }
 },
 "nbformat": 4,
 "nbformat_minor": 5
}
