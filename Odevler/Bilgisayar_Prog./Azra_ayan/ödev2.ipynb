1. soru cevabı
x=int(input("lütfen bir sayı giriniz "))
a=x%5
b=x%7
if a==0:
    print('girdiğiniz sayı 5 e bölünür!')
elif b==0:
    print('girdiğiniz sayı 7 ye bölünür!')
else :
   print('girdiğiniz sayı 7 veya 5 e bölünmez!!')

2. soru cevabı
import random
num=random.randint(1,9)
x=int(input("1 ve 9 arasında bir sayı tuttum hadi tahmin et "))
if x==num:
   print('İyi tahmin')
else:
  print('yanlış tahmin')

3. soru cevabı
ch="python"
a=(ch[0])
b=(ch[5])
if a!=b:
  print('python kelimesinin ilk ve son harfi FARKLIDIR!!')
else:
  print('kelimenin ilk ve son harfi aynıdır')

4. soru cevabı
boy=int(input("lütfen boyunuzu giriniz"))
kılo=int(input("lütfen kilonuzu giriniz"))
b=boy*boy
salary=kılo/b
print('beden kitle endeksiniz ')
print(f"{salary:.4f}")
if salary>=0.0030:
  print("obez")
elif salary>=0.0025:
  print("aşırı kilolu")
elif salary>=0.0020:
  print("normal")
elif salary<0.0020:
  print("zayıf")
else:
  print("done")
