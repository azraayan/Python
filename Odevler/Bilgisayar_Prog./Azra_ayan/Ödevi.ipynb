k=400
c=273.15
salary=k-c
print('400 kelvin ısısının celcius çevrilmiş hali : '+str(salary))

r=1.5
p=3.14
salary1=p*r*r
salary2=2*p*r
print('yarıçapı 1.5 cm olan dairenin alanı: '+str(salary1)+' '+'ve çevresi : '+str(salary2))

x=4258
salary=x%10
salary3=(x-(x%1000))/1000
print("sayının son basamağı "+str(salary)+" "+"sayının ilk basamağı "+str(salary3))

hız=110
yol=500
sonuc=500/110
print(f'500km yolu 110km hızla {sonuc:.2f} saatte gider')
