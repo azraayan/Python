{
 "cells": [
  {
   "cell_type": "code",
   "execution_count": 8,
   "id": "074f83d3",
   "metadata": {},
   "outputs": [
    {
     "name": "stdout",
     "output_type": "stream",
     "text": [
      "Bir Sayı Giriniz: 18\n",
      "Sayı 5'e veya 7'ye tam bölünmez\n"
     ]
    }
   ],
   "source": [
    "deger=int(input(\"Bir Sayı Giriniz: \"))\n",
    "\n",
    "if(deger%5==0):\n",
    "    print(\"Sayı 5'e tam bölünür.\")\n",
    "elif(deger%7==0):\n",
    "    print(\"Sayı 7'ye tam bölünür\")\n",
    "else:\n",
    "    print(\"Sayı 5'e veya 7'ye tam bölünmez\")"
   ]
  },
  {
   "cell_type": "code",
   "execution_count": 3,
   "id": "a1e7ecdd",
   "metadata": {},
   "outputs": [
    {
     "name": "stdout",
     "output_type": "stream",
     "text": [
      "1 ile 9 arasında bir sayı giriniz: 3\n",
      "2\n",
      "Yanlış tahmin!\n"
     ]
    }
   ],
   "source": [
    "deger=int(input(\"1 ile 9 arasında bir sayı giriniz: \"))\n",
    "\n",
    "import random\n",
    "sayi=random.randint(1,10)\n",
    "print(sayi)\n",
    "if(deger==sayi):\n",
    "    print(\"Doğru tahmin!\")\n",
    "else:\n",
    "    print(\"Yanlış tahmin!\")"
   ]
  },
  {
   "cell_type": "code",
   "execution_count": 4,
   "id": "868b6a41",
   "metadata": {},
   "outputs": [
    {
     "name": "stdout",
     "output_type": "stream",
     "text": [
      "Bir kelime girin: nalan\n",
      "nalan Kelimesinin ilk ve son harfi aynı harftir.\n"
     ]
    }
   ],
   "source": [
    "lugat=input(\"Bir kelime girin: \")\n",
    "\n",
    "if len(lugat) < 2:\n",
    "    print(\"Kelime en az iki harf içermelidir.\")\n",
    "elif lugat[0] == lugat[-1]:\n",
    "    print(f\"{lugat} Kelimesinin ilk ve son harfi aynı harftir.\")\n",
    "else:\n",
    "    print(f\"{lugat} Kelimesinin ilk ve son harfi farklı harftir.\")"
   ]
  },
  {
   "cell_type": "code",
   "execution_count": 9,
   "id": "d6ac304d",
   "metadata": {},
   "outputs": [
    {
     "name": "stdout",
     "output_type": "stream",
     "text": [
      "Boy uzunluğunuzu giriniz: 1.92\n",
      "Kilonuzu giriniz lütfen: 98\n",
      "Beden Kitle İndeksiniz (BMI): 26.58\n",
      "Durumunuz: aşırı kilolu\n"
     ]
    }
   ],
   "source": [
    "boy = float(input(\"Boy uzunluğunuzu giriniz: \"))\n",
    "kilogram = float(input(\"Kilonuzu giriniz lütfen: \"))\n",
    "\n",
    "bmi = kilogram / (boy ** 2)\n",
    "\n",
    "if bmi >= 30:\n",
    "    katman = \"obez\"\n",
    "elif 25 <= bmi < 30:\n",
    "    katman = \"aşırı kilolu\"\n",
    "elif 20 <= bmi < 25:\n",
    "    katman = \"normal\"\n",
    "else:\n",
    "    katman = \"zayıf\"\n",
    "\n",
    "print(f\"Beden Kitle İndeksiniz (BMI): {bmi:.2f}\")\n",
    "print(f\"Durumunuz: {katman}\")"
   ]
  }
 ],
 "metadata": {
  "kernelspec": {
   "display_name": "Python 3 (ipykernel)",
   "language": "python",
   "name": "python3"
  },
  "language_info": {
   "codemirror_mode": {
    "name": "ipython",
    "version": 3
   },
   "file_extension": ".py",
   "mimetype": "text/x-python",
   "name": "python",
   "nbconvert_exporter": "python",
   "pygments_lexer": "ipython3",
   "version": "3.11.5"
  }
 },
 "nbformat": 4,
 "nbformat_minor": 5
}
