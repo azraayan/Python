{
 "cells": [
  {
   "cell_type": "code",
   "execution_count": 15,
   "id": "f229faf2",
   "metadata": {},
   "outputs": [
    {
     "name": "stdout",
     "output_type": "stream",
     "text": [
      "bir sayi girin:14\n",
      "sayı 7 ye tam bölünür\n"
     ]
    }
   ],
   "source": [
    "sayi=int(input(\"bir sayi girin:\"))\n",
    "if(sayi%5==0):\n",
    "    print(\"sayı 5 e tam bölünür.\")\n",
    "elif(sayi%7==0):\n",
    "    print(\"sayı 7 ye tam bölünür\")\n",
    "else:\n",
    "    print(\"sayı 5 e veya 7 ye tam bölünmez\")\n"
   ]
  },
  {
   "cell_type": "code",
   "execution_count": 18,
   "id": "0a97fa71",
   "metadata": {},
   "outputs": [
    {
     "name": "stdout",
     "output_type": "stream",
     "text": [
      "1 ile 9 arasında bir sayi girin:4\n",
      "1\n",
      "yanlış tahmin\n"
     ]
    }
   ],
   "source": [
    "sayi=int(input(\"1 ile 9 arasında bir sayi girin:\"))\n",
    "import random\n",
    "num=random.randint(1,10)\n",
    "print(num)\n",
    "if(sayi==num):\n",
    "    print(\"doğru bildiniz\")\n",
    "else:\n",
    "    print(\"yanlış tahmin\")"
   ]
  },
  {
   "cell_type": "code",
   "execution_count": 20,
   "id": "01a83a9c",
   "metadata": {},
   "outputs": [
    {
     "name": "stdout",
     "output_type": "stream",
     "text": [
      "bir kelime girin: kara\n",
      "kara kelimesinin başı ve sonu farklı harflere sahiptir.\n"
     ]
    }
   ],
   "source": [
    "kelime=input(\"bir kelime girin: \")\n",
    "if len(kelime) < 2:\n",
    "    print(\"Kelime en az iki harf içermelidir.\")\n",
    "elif kelime[0] == kelime[-1]:\n",
    "    print(f\"{kelime} kelimesinin başı ve sonu aynı harfe sahiptir.\")\n",
    "else:\n",
    "    print(f\"{kelime} kelimesinin başı ve sonu farklı harflere sahiptir.\")"
   ]
  },
  {
   "cell_type": "code",
   "execution_count": 2,
   "id": "fb9d30c7",
   "metadata": {},
   "outputs": [
    {
     "name": "stdout",
     "output_type": "stream",
     "text": [
      "Lütfen boyunuzu (metre cinsinden) girin: 1.60\n",
      "Lütfen kilonuzu (kg cinsinden) girin: 50\n",
      "Beden Kitle İndeksiniz (BMI): 19.53\n",
      "Durumunuz: zayıf\n"
     ]
    }
   ],
   "source": [
    "boy = float(input(\"Lütfen boyunuzu (metre cinsinden) girin: \"))\n",
    "kilogram = float(input(\"Lütfen kilonuzu (kg cinsinden) girin: \"))\n",
    "\n",
    "bmi = kilogram / (boy ** 2)\n",
    "\n",
    "if bmi >= 30:\n",
    "    sınıf = \"obez\"\n",
    "elif 25 <= bmi < 30:\n",
    "    sınıf = \"aşırı kilolu\"\n",
    "elif 20 <= bmi < 25:\n",
    "    sınıf = \"normal\"\n",
    "else:\n",
    "    sınıf = \"zayıf\"\n",
    "\n",
    "print(f\"Beden Kitle İndeksiniz (BMI): {bmi:.2f}\")\n",
    "print(f\"Durumunuz: {sınıf}\")"
   ]
  },
  {
   "cell_type": "code",
   "execution_count": null,
   "id": "443ec5f0",
   "metadata": {},
   "outputs": [],
   "source": []
  }
 ],
 "metadata": {
  "kernelspec": {
   "display_name": "Python 3 (ipykernel)",
   "language": "python",
   "name": "python3"
  },
  "language_info": {
   "codemirror_mode": {
    "name": "ipython",
    "version": 3
   },
   "file_extension": ".py",
   "mimetype": "text/x-python",
   "name": "python",
   "nbconvert_exporter": "python",
   "pygments_lexer": "ipython3",
   "version": "3.11.5"
  }
 },
 "nbformat": 4,
 "nbformat_minor": 5
}
