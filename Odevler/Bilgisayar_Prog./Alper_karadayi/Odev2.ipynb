{
  "nbformat": 4,
  "nbformat_minor": 0,
  "metadata": {
    "colab": {
      "provenance": []
    },
    "kernelspec": {
      "name": "python3",
      "display_name": "Python 3"
    },
    "language_info": {
      "name": "python"
    }
  },
  "cells": [
    {
      "cell_type": "markdown",
      "source": [
        "CEVAP 1"
      ],
      "metadata": {
        "id": "8cqylBPv_1aD"
      }
    },
    {
      "cell_type": "code",
      "execution_count": null,
      "metadata": {
        "id": "CtoOlTGj_xEx"
      },
      "outputs": [],
      "source": [
        "sayi = int(input(\"Bir sayı girin: \"))\n",
        "\n",
        "if sayi % 5 == 0 and sayi % 7 == 0:\n",
        "    print(f\"{sayi} hem 5'e hem de 7'ye bölünür.\")\n",
        "elif sayi % 5 == 0:\n",
        "    print(f\"{sayi} 5'e bölünür.\")\n",
        "elif sayi % 7 == 0:\n",
        "    print(f\"{sayi} 7'ye bölünür.\")\n",
        "else:\n",
        "    print(f\"{sayi} hem 5'e hem de 7'ye bölünmez.\")"
      ]
    },
    {
      "cell_type": "markdown",
      "source": [
        "CEVAP 2"
      ],
      "metadata": {
        "id": "uvgImE6SAMlv"
      }
    },
    {
      "cell_type": "code",
      "source": [
        "import random\n",
        "\n",
        "hedef_sayi = random.randint(1, 9)\n",
        "\n",
        "while True:\n",
        "    try:\n",
        "        tahmin = int(input(\"1 ile 9 arasında bir sayı tahmin edin: \"))\n",
        "\n",
        "        if tahmin == hedef_sayi:\n",
        "            print(\"Doğru Tahmin!\")\n",
        "            break\n",
        "        else:\n",
        "            print(\"Yanlış Tahmin. Tekrar deneyin.\")\n",
        "    except ValueError:\n",
        "        print(\"Lütfen bir sayı girin.\")"
      ],
      "metadata": {
        "id": "-xmaWcz7APey"
      },
      "execution_count": null,
      "outputs": []
    },
    {
      "cell_type": "markdown",
      "source": [
        "CEVAP 3"
      ],
      "metadata": {
        "id": "c5E46GLvAUsX"
      }
    },
    {
      "cell_type": "code",
      "source": [
        "kelime = input(\"Bir kelime girin: \")\n",
        "\n",
        "ilk_harf = kelime[0]\n",
        "son_harf = kelime[-1]\n",
        "\n",
        "if ilk_harf == son_harf:\n",
        "    print(f\"{kelime} kelimesi başında ve sonunda aynı harfe sahiptir.\")\n",
        "else:\n",
        "    print(f\"{kelime} kelimesi başında ve sonunda farklı harflere sahiptir.\")\n"
      ],
      "metadata": {
        "id": "1GTHQ_U9AWEx"
      },
      "execution_count": null,
      "outputs": []
    },
    {
      "cell_type": "markdown",
      "source": [
        "CEVAP 4"
      ],
      "metadata": {
        "id": "oHsyo2moAZp5"
      }
    },
    {
      "cell_type": "code",
      "source": [
        "boy = float(input(\"Boyunuzu (metre cinsinden) girin: \"))\n",
        "kilogram = float(input(\"Kilonuzu (kilogram cinsinden) girin: \"))\n",
        "\n",
        "bmi = kilogram / (boy ** 2)\n",
        "\n",
        "if bmi >= 30:\n",
        "    print(f\"BMI: {bmi:.2f} - Obez\")\n",
        "elif 25 <= bmi < 30:\n",
        "    print(f\"BMI: {bmi:.2f} - Aşırı Kilolu\")\n",
        "elif 20 <= bmi < 25:\n",
        "    print(f\"BMI: {bmi:.2f} - Normal\")\n",
        "else:\n",
        "    print(f\"BMI: {bmi:.2f} - Zayıf\")\n"
      ],
      "metadata": {
        "id": "To7tpj9YAarT"
      },
      "execution_count": null,
      "outputs": []
    }
  ]
}
